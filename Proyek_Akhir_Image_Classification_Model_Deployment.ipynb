{
  "cells": [
    {
      "cell_type": "markdown",
      "metadata": {
        "id": "Ik9o2--7rUiC"
      },
      "source": [
        "- **Nama:** Aulia Afifah\n",
        "- **ID Dicoding:** auliaafifah253"
      ]
    },
    {
      "cell_type": "markdown",
      "metadata": {
        "id": "45n7kZdcxXX9"
      },
      "source": [
        "# Menyiapkan Library"
      ]
    },
    {
      "cell_type": "code",
      "execution_count": 2,
      "metadata": {
        "id": "okSWhzm6v0CP"
      },
      "outputs": [],
      "source": [
        "import os\n",
        "import random\n",
        "import shutil\n",
        "import matplotlib.pyplot as plt\n",
        "import tensorflow as tf\n",
        "import matplotlib.pyplot as plt\n",
        "import numpy as np\n",
        "import pathlib\n",
        "\n",
        "from tensorflow.keras.models import Sequential\n",
        "from tensorflow.keras.layers import Conv2D, MaxPooling2D, Flatten, Dense, Dropout\n",
        "from tensorflow.keras.preprocessing.image import ImageDataGenerator\n",
        "from tensorflow.keras.callbacks import EarlyStopping, ModelCheckpoint\n",
        "from kaggle.api.kaggle_api_extended import KaggleApi"
      ]
    },
    {
      "cell_type": "code",
      "execution_count": 3,
      "metadata": {
        "colab": {
          "base_uri": "https://localhost:8080/"
        },
        "id": "ZWj8a2MT83uB",
        "outputId": "79eb9279-4742-4ebc-954b-4f35f124ace1"
      },
      "outputs": [
        {
          "name": "stdout",
          "output_type": "stream",
          "text": [
            "mkdir: cannot create directory ‘/root/.kaggle’: File exists\n",
            "Dataset URL: https://www.kaggle.com/datasets/yusuftaqiyuddin/fruit-12\n",
            "License(s): unknown\n",
            "Downloading fruit-12.zip to /content\n",
            " 99% 378M/383M [00:03<00:00, 112MB/s]\n",
            "100% 383M/383M [00:03<00:00, 110MB/s]\n"
          ]
        }
      ],
      "source": [
        "!pip install -q kaggle\n",
        "!mkdir ~/.kaggle\n",
        "!cp kaggle.json ~/.kaggle\n",
        "!chmod 600 ~/.kaggle/kaggle.json\n",
        "!kaggle datasets download -d 'yusuftaqiyuddin/fruit-12'"
      ]
    },
    {
      "cell_type": "code",
      "execution_count": 4,
      "metadata": {
        "id": "-BarRyMUlZ-v"
      },
      "outputs": [],
      "source": [
        "!unzip -q fruit-12.zip -d fruit-12-data"
      ]
    },
    {
      "cell_type": "code",
      "execution_count": 5,
      "metadata": {
        "colab": {
          "base_uri": "https://localhost:8080/"
        },
        "id": "xhHvk-RelZ5t",
        "outputId": "e51e50ec-3e75-4961-8c36-f53cdf66d2d0"
      },
      "outputs": [
        {
          "name": "stdout",
          "output_type": "stream",
          "text": [
            "Folder buah yang dipilih sudah dipindahkan ke dalam --> df\n"
          ]
        }
      ],
      "source": [
        "destination_folder = \"df\"\n",
        "os.makedirs(destination_folder, exist_ok=True)\n",
        "\n",
        "fruit_folders = [\"Apple\", \"Mango\", \"Melon\"]\n",
        "\n",
        "for fruit in fruit_folders:\n",
        "    src_folder = f\"fruit-12-data/{fruit}\"\n",
        "    dst_folder = os.path.join(destination_folder, fruit)\n",
        "    shutil.move(src_folder, dst_folder)\n",
        "\n",
        "print(f\"Folder buah yang dipilih sudah dipindahkan ke dalam --> {destination_folder}\")"
      ]
    },
    {
      "cell_type": "code",
      "execution_count": 6,
      "metadata": {
        "id": "jj6HSs_ZxdXu"
      },
      "outputs": [],
      "source": [
        "!rm fruit-12.zip"
      ]
    },
    {
      "cell_type": "markdown",
      "metadata": {
        "id": "0dnX6nO2xfiA"
      },
      "source": [
        "# Preprocessing data"
      ]
    },
    {
      "cell_type": "code",
      "execution_count": 7,
      "metadata": {
        "id": "lxsM_0Lgxhat"
      },
      "outputs": [],
      "source": [
        "train_folder = os.path.join(destination_folder, \"train\")\n",
        "test_folder = os.path.join(destination_folder, \"test\")\n",
        "os.makedirs(train_folder, exist_ok=True)\n",
        "os.makedirs(test_folder, exist_ok=True)"
      ]
    },
    {
      "cell_type": "code",
      "execution_count": 8,
      "metadata": {
        "colab": {
          "base_uri": "https://localhost:8080/"
        },
        "id": "fZY95NH0PzRf",
        "outputId": "92c3b87d-f953-4d25-a2b1-db14bfd4ac15"
      },
      "outputs": [
        {
          "name": "stdout",
          "output_type": "stream",
          "text": [
            "Data tersebut telah dibagi ke dalam folder train dan test di --> df\n"
          ]
        }
      ],
      "source": [
        "train_size_ratio = 0.8\n",
        "\n",
        "for fruit in fruit_folders:\n",
        "    fruit_src_folder = os.path.join(destination_folder, fruit)\n",
        "    fruit_train_folder = os.path.join(train_folder, fruit)\n",
        "    fruit_test_folder = os.path.join(test_folder, fruit)\n",
        "\n",
        "    os.makedirs(fruit_train_folder, exist_ok=True)\n",
        "    os.makedirs(fruit_test_folder, exist_ok=True)\n",
        "\n",
        "    images = os.listdir(fruit_src_folder)\n",
        "\n",
        "    random.shuffle(images)\n",
        "    train_size = int(train_size_ratio * len(images))\n",
        "\n",
        "    train_images = images[:train_size]\n",
        "    test_images = images[train_size:]\n",
        "\n",
        "    for image in train_images:\n",
        "        src_path = os.path.join(fruit_src_folder, image)\n",
        "        dst_path = os.path.join(fruit_train_folder, image)\n",
        "        shutil.move(src_path, dst_path)\n",
        "\n",
        "    for image in test_images:\n",
        "        src_path = os.path.join(fruit_src_folder, image)\n",
        "        dst_path = os.path.join(fruit_test_folder, image)\n",
        "        shutil.move(src_path, dst_path)\n",
        "\n",
        "print(f\"Data tersebut telah dibagi ke dalam folder train dan test di --> {destination_folder}\")"
      ]
    },
    {
      "cell_type": "code",
      "execution_count": 9,
      "metadata": {
        "colab": {
          "base_uri": "https://localhost:8080/"
        },
        "id": "wW40WXGnQJfV",
        "outputId": "20e93c28-514e-4140-e657-3a7ebac94891"
      },
      "outputs": [
        {
          "name": "stdout",
          "output_type": "stream",
          "text": [
            "Folder Apple telah dihapus yaaa\n",
            "Folder Mango telah dihapus yaaa\n",
            "Folder Melon telah dihapus yaaa\n"
          ]
        }
      ],
      "source": [
        "fruit_folders = [\"Apple\", \"Mango\", \"Melon\"]\n",
        "\n",
        "for fruit in fruit_folders:\n",
        "    fruit_folder = os.path.join(destination_folder, fruit)\n",
        "\n",
        "    if os.path.exists(fruit_folder):\n",
        "        shutil.rmtree(fruit_folder)\n",
        "        print(f\"Folder {fruit} telah dihapus yaaa\")\n",
        "    else:\n",
        "        print(f\"Folder {fruit} tidak ditemukan atau sudah dihapus sebelumnyaaa\")"
      ]
    },
    {
      "cell_type": "code",
      "execution_count": 10,
      "metadata": {
        "colab": {
          "base_uri": "https://localhost:8080/"
        },
        "id": "YfXihzKlQW-C",
        "outputId": "2a57fb9c-f8d1-4d1f-f289-e7b10442cfe1"
      },
      "outputs": [
        {
          "name": "stdout",
          "output_type": "stream",
          "text": [
            "Found 4716 images belonging to 3 classes.\n"
          ]
        }
      ],
      "source": [
        "TRAINING_DIR = \"df/train\"\n",
        "VALIDATION_DIR = \"df/test\"\n",
        "\n",
        "train_datagen = ImageDataGenerator(\n",
        "    rescale=1.0/255,\n",
        "    rotation_range=30,\n",
        "    shear_range=0.2,\n",
        "    zoom_range=0.2,\n",
        "    vertical_flip=True,\n",
        "    fill_mode='nearest'\n",
        ")\n",
        "\n",
        "train_generator = train_datagen.flow_from_directory(TRAINING_DIR,\n",
        "                                                    batch_size=32,\n",
        "                                                    class_mode='categorical',\n",
        "                                                    target_size=(150, 150))"
      ]
    },
    {
      "cell_type": "code",
      "execution_count": 11,
      "metadata": {
        "colab": {
          "base_uri": "https://localhost:8080/"
        },
        "id": "XgwA9Vf0Sstl",
        "outputId": "49fc5ae1-8c08-4e7c-ae75-d245e478e76a"
      },
      "outputs": [
        {
          "name": "stdout",
          "output_type": "stream",
          "text": [
            "Found 1180 images belonging to 3 classes.\n"
          ]
        }
      ],
      "source": [
        "validation_datagen = ImageDataGenerator(\n",
        "    rescale=1.0/255\n",
        ")\n",
        "validation_generator = validation_datagen.flow_from_directory(VALIDATION_DIR,\n",
        "                                                            batch_size=16,\n",
        "                                                            class_mode='categorical',\n",
        "                                                            target_size=(150, 150))"
      ]
    },
    {
      "cell_type": "markdown",
      "metadata": {
        "id": "FdCUj-AqSzHw"
      },
      "source": [
        "# Membuat model"
      ]
    },
    {
      "cell_type": "code",
      "execution_count": 12,
      "metadata": {
        "id": "dwzJBBQoZ3UO"
      },
      "outputs": [],
      "source": [
        "class MyCallback(tf.keras.callbacks.Callback):\n",
        "    def on_epoch_end(self, epoch, logs=None):\n",
        "        if logs is not None:\n",
        "            accuracy = logs.get('accuracy')\n",
        "            if accuracy > 0.95:\n",
        "                print(\"\\nAkurasi telah mencapai >95%!\")\n",
        "                self.model.stop_training = True"
      ]
    },
    {
      "cell_type": "code",
      "execution_count": 13,
      "metadata": {
        "id": "yyVqDkYUZ4Wi"
      },
      "outputs": [],
      "source": [
        "callbacks = MyCallback()"
      ]
    },
    {
      "cell_type": "code",
      "execution_count": 14,
      "metadata": {
        "id": "LJnROsXNSvR7"
      },
      "outputs": [],
      "source": [
        "model = tf.keras.models.Sequential([\n",
        "    tf.keras.layers.Conv2D(32, (3, 3), activation='relu', input_shape=(150, 150, 3)),\n",
        "    tf.keras.layers.MaxPooling2D((2, 2)),\n",
        "    tf.keras.layers.Flatten(),\n",
        "    tf.keras.layers.Dense(128, activation='relu'),\n",
        "    tf.keras.layers.Dense(train_generator.num_classes, activation='softmax')\n",
        "])"
      ]
    },
    {
      "cell_type": "code",
      "execution_count": 15,
      "metadata": {
        "id": "zXnz81l6VmSj"
      },
      "outputs": [],
      "source": [
        "model.compile(loss='categorical_crossentropy',\n",
        "              optimizer='adam',\n",
        "              metrics=['accuracy'])"
      ]
    },
    {
      "cell_type": "markdown",
      "metadata": {
        "id": "W4Pm1vdjTfRm"
      },
      "source": [
        "# Melatih model"
      ]
    },
    {
      "cell_type": "code",
      "execution_count": 16,
      "metadata": {
        "colab": {
          "base_uri": "https://localhost:8080/"
        },
        "id": "pEIAc40Dnn1Y",
        "outputId": "9500fec2-b548-4ec5-8417-388693b78209"
      },
      "outputs": [
        {
          "name": "stdout",
          "output_type": "stream",
          "text": [
            "Epoch 1/30\n",
            "148/148 [==============================] - 179s 1s/step - loss: 1.1911 - accuracy: 0.8679 - val_loss: 0.0735 - val_accuracy: 0.9729\n",
            "Epoch 2/30\n",
            "148/148 [==============================] - ETA: 0s - loss: 0.0649 - accuracy: 0.9763\n",
            "Akurasi telah mencapai >95%!\n",
            "148/148 [==============================] - 183s 1s/step - loss: 0.0649 - accuracy: 0.9763 - val_loss: 0.0219 - val_accuracy: 0.9975\n"
          ]
        }
      ],
      "source": [
        "history = model.fit(\n",
        "    train_generator,\n",
        "    epochs=30,\n",
        "    validation_data=validation_generator,\n",
        "    callbacks=[callbacks]\n",
        ")"
      ]
    },
    {
      "cell_type": "code",
      "execution_count": 17,
      "metadata": {
        "colab": {
          "base_uri": "https://localhost:8080/"
        },
        "id": "cPdrJpF2nqpX",
        "outputId": "410c67ea-902e-41fa-f2dc-68807c273fc1"
      },
      "outputs": [
        {
          "name": "stdout",
          "output_type": "stream",
          "text": [
            "74/74 [==============================] - 9s 119ms/step - loss: 0.0219 - accuracy: 0.9975\n",
            "Test accuracy menunjukkan: 99.75%\n"
          ]
        }
      ],
      "source": [
        "test_loss, test_acc = model.evaluate(validation_generator)\n",
        "print(f\"Test accuracy menunjukkan: {test_acc * 100:.2f}%\")"
      ]
    },
    {
      "cell_type": "code",
      "execution_count": 18,
      "metadata": {
        "colab": {
          "base_uri": "https://localhost:8080/",
          "height": 510
        },
        "id": "AmV7DteiTkBI",
        "outputId": "0e2cd798-8ab2-4f62-9d59-ab4bc827d76d"
      },
      "outputs": [
        {
          "data": {
            "text/plain": [
              "<matplotlib.legend.Legend at 0x7dd60918bac0>"
            ]
          },
          "execution_count": 18,
          "metadata": {},
          "output_type": "execute_result"
        },
        {
          "data": {
            "image/png": "[encoded data removed]",
            "text/plain": [
              "<Figure size 1000x500 with 1 Axes>"
            ]
          },
          "metadata": {},
          "output_type": "display_data"
        }
      ],
      "source": [
        "epochs = len(history.history['loss'])\n",
        "\n",
        "plt.style.use(\"ggplot\")\n",
        "plt.figure(figsize=(10, 5))\n",
        "plt.plot(np.arange(0, epochs), history.history[\"loss\"], label=\"training\")\n",
        "plt.plot(np.arange(0, epochs), history.history[\"val_loss\"], label=\"validation\")\n",
        "plt.title(\"Loss\")\n",
        "plt.xlabel(\"Epoch\")\n",
        "plt.ylabel(\"Loss\")\n",
        "plt.legend()"
      ]
    },
    {
      "cell_type": "code",
      "execution_count": 19,
      "metadata": {
        "colab": {
          "base_uri": "https://localhost:8080/",
          "height": 510
        },
        "id": "cdcvuckiTvzU",
        "outputId": "a78a4d23-76ca-4ac5-f0d4-0c6e107eee55"
      },
      "outputs": [
        {
          "data": {
            "text/plain": [
              "<matplotlib.legend.Legend at 0x7dd61374cf40>"
            ]
          },
          "execution_count": 19,
          "metadata": {},
          "output_type": "execute_result"
        },
        {
          "data": {
            "image/png": "[encoded data removed]",
            "text/plain": [
              "<Figure size 1000x500 with 1 Axes>"
            ]
          },
          "metadata": {},
          "output_type": "display_data"
        }
      ],
      "source": [
        "plt.figure(figsize=(10, 5))\n",
        "plt.plot(np.arange(0, epochs), history.history[\"accuracy\"], label=\"training\")\n",
        "plt.plot(np.arange(0, epochs), history.history[\"val_accuracy\"], label=\"validation\")\n",
        "plt.title(\"Accuracy\")\n",
        "plt.xlabel(\"Epoch\")\n",
        "plt.ylabel(\"Accuracy\")\n",
        "plt.legend()"
      ]
    },
    {
      "cell_type": "markdown",
      "metadata": {
        "id": "lm2dYdnXTyzx"
      },
      "source": [
        "# Mengubah model"
      ]
    },
    {
      "cell_type": "code",
      "execution_count": 20,
      "metadata": {
        "id": "PMRG1Uj2T0vL"
      },
      "outputs": [],
      "source": [
        "export_dir = 'saved_model/'\n",
        "tf.saved_model.save(model, export_dir)"
      ]
    },
    {
      "cell_type": "code",
      "execution_count": 21,
      "metadata": {
        "id": "t3MZ4nmCT2j4"
      },
      "outputs": [],
      "source": [
        "converter = tf.lite.TFLiteConverter.from_saved_model(export_dir)\n",
        "tflite_model = converter.convert()"
      ]
    },
    {
      "cell_type": "code",
      "execution_count": 22,
      "metadata": {
        "colab": {
          "base_uri": "https://localhost:8080/"
        },
        "id": "u9ddSwBWT3yZ",
        "outputId": "f1e54269-8e3a-4504-92f4-c9db14fa3183"
      },
      "outputs": [
        {
          "data": {
            "text/plain": [
              "89727152"
            ]
          },
          "execution_count": 22,
          "metadata": {},
          "output_type": "execute_result"
        }
      ],
      "source": [
        "tflite_model_file = pathlib.Path('vegs.tflite')\n",
        "tflite_model_file.write_bytes(tflite_model)"
      ]
    }
  ],
  "metadata": {
    "colab": {
      "provenance": []
    },
    "kernelspec": {
      "display_name": "Python 3",
      "name": "python3"
    },
    "language_info": {
      "name": "python"
    }
  },
  "nbformat": 4,
  "nbformat_minor": 0
}
